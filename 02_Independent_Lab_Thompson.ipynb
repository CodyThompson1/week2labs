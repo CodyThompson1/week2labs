{
 "cells": [
  {
   "cell_type": "markdown",
   "id": "88b1b61c-3c34-4c31-b10f-e9ebace25e5b",
   "metadata": {},
   "source": [
    "# Week 2 Independent Lab - Celsius to Fahrenheit Conversion\n",
    "\n",
    "* Intro to Python\n",
    "* Celsius to Fahrenheit Conversion  \n",
    "* Cody Thompson\n",
    "* Date: March 8, 2025\n",
    "\n",
    "Welcome to my Celsius to Fahrenheit conversion notebook!"
   ]
  },
  {
   "cell_type": "code",
   "execution_count": 17,
   "id": "d35f7f63-29ed-40f6-baa9-ffb1e57e60b3",
   "metadata": {},
   "outputs": [
    {
     "name": "stdin",
     "output_type": "stream",
     "text": [
      "Please provide a value, in Celsius, to convert:\n",
      " 37\n"
     ]
    },
    {
     "name": "stdout",
     "output_type": "stream",
     "text": [
      "37.0 degrees Celsius is 98.60000000000001 degrees Fahrenheit.\n"
     ]
    }
   ],
   "source": [
    "# Step 1: Initialize variables\n",
    "celsius = 0.0  # Celsius temperature, initially set to 0.0\n",
    "fahrenheit = 0.0  # Fahrenheit temperature, initially set to 0.0 \n",
    "\n",
    "# Step 2: Get input from user\n",
    "celsius = float(input(\"Please provide a value, in Celsius, to convert:\\n\")) #You can request input from a user by using the function `input()`\n",
    "\n",
    "# Step 3: Convert Celsius to Fahrenheit\n",
    "fahrenheit = (9 / 5) * celsius + 32 # takes users input and does the math and returns the rahrenhieght as the putput\n",
    "\n",
    "# Step 4: Output the result using string interpolation\n",
    "print(f\"{celsius} degrees Celsius is {fahrenheit} degrees Fahrenheit.\") #Using f\"{}\" allows you to manually plug in a value into a string text\n"
   ]
  },
  {
   "cell_type": "code",
   "execution_count": 14,
   "id": "25d9c899-22bb-45ec-9d67-fc360c715a89",
   "metadata": {},
   "outputs": [
    {
     "name": "stdout",
     "output_type": "stream",
     "text": [
      "212\n",
      "<class 'int'>\n"
     ]
    }
   ],
   "source": [
    "# Type Conversion\n",
    "int_fahrenheit = int(fahrenheit)  # Convert fahrenheit to an integer\n",
    "print(int_fahrenheit)  # Output the integer version of Fahrenheit\n",
    "print(type(int_fahrenheit))  # Check the data type"
   ]
  },
  {
   "cell_type": "code",
   "execution_count": null,
   "id": "44faf2f0-1fb9-4cc8-9308-ddb95d36f9bc",
   "metadata": {},
   "outputs": [],
   "source": []
  }
 ],
 "metadata": {
  "kernelspec": {
   "display_name": "Python [conda env:base] *",
   "language": "python",
   "name": "conda-base-py"
  },
  "language_info": {
   "codemirror_mode": {
    "name": "ipython",
    "version": 3
   },
   "file_extension": ".py",
   "mimetype": "text/x-python",
   "name": "python",
   "nbconvert_exporter": "python",
   "pygments_lexer": "ipython3",
   "version": "3.12.7"
  }
 },
 "nbformat": 4,
 "nbformat_minor": 5
}
