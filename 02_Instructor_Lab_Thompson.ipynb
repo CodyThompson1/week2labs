{
 "cells": [
  {
   "cell_type": "markdown",
   "id": "136947c4-e057-4395-b873-a989c9008307",
   "metadata": {
    "editable": true,
    "slideshow": {
     "slide_type": ""
    },
    "tags": []
   },
   "source": [
    "UM MSBA - BGEN 632\n",
    "\n",
    "# Week 2 Instructor-led Lab\n",
    "\n",
    "In this assignment you will create basic code showcasing the concepts you learned about in the tutorial. \n",
    "\n",
    "**Create Code cells below this Markdown cell to complete the assignment. Write and run your code. To get full points, your submitted notebook must include saved output in addition to written code.** \n",
    "\n",
    "For this assignment, you are not required to create any Markdown cells but you are encouraged to do so to improve the aesthetics and organization of your lab submission. \n",
    "\n",
    "As stated in the syllabus, you <ins>must</ins> include information about your use of online resources to complete assignments, including chatbots like ChatGPT. You can include reference information within your notebooks and/or within separate files pushed to your repo on GitHub. Failure to disclose the use of online resources is a violation of course policy.\n",
    "\n",
    "## Assigning Values\n",
    "\n",
    "For this portion of the assignment, you will create variables in your notebook. You will assign a value to each variable. Please perform the following tasks and create each variable by assigning the following values:\n",
    "\n",
    "* my_int assign it a number between 1 and 20, inclusive.\n",
    "* long_a assign it the number 6,323,527,192.\n",
    "* float_pi assign it the number 3.14159\n",
    "* my_double assign it a fractional number with 13 decimals.\n",
    "* decimal_a assign it a fractional number with 20 decimals.\n",
    "* big_griz assign it the value G (uppercase).\n",
    "* my_hello assign it a greeting to the entire class.\n",
    "* my_goodbye assign it a farewell to your class.\n",
    "\n",
    "## Single Line Comments\n",
    "\n",
    "At the end of each variable, on the same line, place a single-line comment with a short description of each variable. For example, it would look like this:\n",
    "\n",
    "```\n",
    "new_double = 38.936921934     # A double with 9 decimal places\n",
    "```\n",
    "\n",
    "## Print Output\n",
    "\n",
    "Now that you have assigned values to your variables, let's print them. Output each variable individually.\n",
    "\n",
    "## Type Conversion\n",
    "\n",
    "The last task you have for this lab involves type conversion. Create new variables with the following types, names, and values. Use an explicit type conversion.\n",
    "\n",
    "* `int` named my_new_int with a number between 1 and 20, inclusive.\n",
    "* `float` named float_b with value 3.14159.\n",
    "  \n",
    "Output both variables. \n",
    "\n",
    "---"
   ]
  },
  {
   "cell_type": "code",
   "execution_count": 6,
   "id": "d66e4214-94a0-47c8-8db0-6d044515b322",
   "metadata": {},
   "outputs": [],
   "source": [
    "# Assigning Values and Single Line Comments.\n",
    "my_int = 18  # An integer between 1 and 20\n",
    "long_a = 6323527192  # A large number\n",
    "float_pi = 3.14159  # The number pi with 5 decimal places\n",
    "my_double = 12.3456789012345  # A double with 13 decimal places\n",
    "decimal_a = 12.34567890123456789012  # A decimal with 20 decimal places\n",
    "big_griz = 'G'  # A string with uppercase 'G'\n",
    "my_hello = 'Hello, class!'  # A greeting to the entire class\n",
    "my_goodbye = 'Goodbye, class!'  # A farewell to the class"
   ]
  },
  {
   "cell_type": "code",
   "execution_count": 8,
   "id": "b1826557-4b0d-463a-b0e9-393301375cc7",
   "metadata": {},
   "outputs": [
    {
     "name": "stdout",
     "output_type": "stream",
     "text": [
      "18\n",
      "6323527192\n",
      "3.14159\n",
      "12.3456789012345\n",
      "12.345678901234567\n",
      "G\n",
      "Hello, class!\n",
      "Goodbye, class!\n"
     ]
    }
   ],
   "source": [
    "# Print Output\n",
    "print(my_int)\n",
    "print(long_a)\n",
    "print(float_pi)\n",
    "print(my_double)\n",
    "print(decimal_a)\n",
    "print(big_griz)\n",
    "print(my_hello)\n",
    "print(my_goodbye)"
   ]
  },
  {
   "cell_type": "code",
   "execution_count": 14,
   "id": "e6a4b5c6-c1df-4ebc-b58a-c3d36184ef63",
   "metadata": {},
   "outputs": [
    {
     "name": "stdout",
     "output_type": "stream",
     "text": [
      "15\n",
      "3.14159\n"
     ]
    }
   ],
   "source": [
    "# Type Conversion\n",
    "my_new_int = int(15)  # Converting a number to an integer\n",
    "float_b = float(3.14159)  # Converting to a float\n",
    "\n",
    "# Output converetd variables\n",
    "print(my_new_int)\n",
    "print(float_b)"
   ]
  }
 ],
 "metadata": {
  "kernelspec": {
   "display_name": "Python [conda env:base] *",
   "language": "python",
   "name": "conda-base-py"
  },
  "language_info": {
   "codemirror_mode": {
    "name": "ipython",
    "version": 3
   },
   "file_extension": ".py",
   "mimetype": "text/x-python",
   "name": "python",
   "nbconvert_exporter": "python",
   "pygments_lexer": "ipython3",
   "version": "3.12.7"
  }
 },
 "nbformat": 4,
 "nbformat_minor": 5
}
